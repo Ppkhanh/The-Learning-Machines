{
 "cells": [
  {
   "cell_type": "code",
   "execution_count": 1,
   "metadata": {},
   "outputs": [
    {
     "name": "stderr",
     "output_type": "stream",
     "text": [
      "c:\\Users\\riven\\anaconda3\\lib\\site-packages\\numpy\\_distributor_init.py:30: UserWarning: loaded more than 1 DLL from .libs:\n",
      "c:\\Users\\riven\\anaconda3\\lib\\site-packages\\numpy\\.libs\\libopenblas.EL2C6PLE4ZYW3ECEVIV3OXXGRN2NRFM2.gfortran-win_amd64.dll\n",
      "c:\\Users\\riven\\anaconda3\\lib\\site-packages\\numpy\\.libs\\libopenblas.GK7GX5KEQ4F6UYO3P26ULGBQYHGQO7J4.gfortran-win_amd64.dll\n",
      "  warnings.warn(\"loaded more than 1 DLL from .libs:\"\n"
     ]
    }
   ],
   "source": [
    "import numpy as np\n",
    "import matplotlib.pyplot as plt\n",
    "import seaborn as sns\n",
    "import pandas as pd\n",
    "from sklearn.linear_model import LinearRegression\n",
    "from sklearn.model_selection import train_test_split\n",
    "from sklearn.metrics import mean_squared_error, mean_absolute_error, r2_score\n",
    "import datetime\n",
    "from keras.models import Sequential\n",
    "from keras.layers import Dense, Dropout\n",
    "from scikeras.wrappers import KerasRegressor"
   ]
  },
  {
   "cell_type": "code",
   "execution_count": 2,
   "metadata": {},
   "outputs": [],
   "source": [
    "df = pd.read_csv(\"Predict_ready_df\")"
   ]
  },
  {
   "cell_type": "code",
   "execution_count": 3,
   "metadata": {},
   "outputs": [],
   "source": [
    "df.drop(df[df['idle_time']==0].index,inplace= True)"
   ]
  },
  {
   "cell_type": "code",
   "execution_count": 4,
   "metadata": {},
   "outputs": [
    {
     "data": {
      "text/html": [
       "<div>\n",
       "<style scoped>\n",
       "    .dataframe tbody tr th:only-of-type {\n",
       "        vertical-align: middle;\n",
       "    }\n",
       "\n",
       "    .dataframe tbody tr th {\n",
       "        vertical-align: top;\n",
       "    }\n",
       "\n",
       "    .dataframe thead th {\n",
       "        text-align: right;\n",
       "    }\n",
       "</style>\n",
       "<table border=\"1\" class=\"dataframe\">\n",
       "  <thead>\n",
       "    <tr style=\"text-align: right;\">\n",
       "      <th></th>\n",
       "      <th>Unnamed: 0</th>\n",
       "      <th>timestamp</th>\n",
       "      <th>station_id</th>\n",
       "      <th>bike_id</th>\n",
       "      <th>idle_time</th>\n",
       "      <th>bike_count</th>\n",
       "      <th>temperature</th>\n",
       "      <th>windspeed</th>\n",
       "      <th>rain</th>\n",
       "      <th>hour</th>\n",
       "      <th>IsWeekday</th>\n",
       "      <th>month</th>\n",
       "      <th>lat</th>\n",
       "      <th>lon</th>\n",
       "      <th>near_bus_station</th>\n",
       "      <th>near_school</th>\n",
       "      <th>near_leisure_spots</th>\n",
       "    </tr>\n",
       "  </thead>\n",
       "  <tbody>\n",
       "    <tr>\n",
       "      <th>0</th>\n",
       "      <td>1</td>\n",
       "      <td>2019-01-01 09:00:00</td>\n",
       "      <td>3</td>\n",
       "      <td>2191</td>\n",
       "      <td>113.283333</td>\n",
       "      <td>1</td>\n",
       "      <td>10.0</td>\n",
       "      <td>30.0</td>\n",
       "      <td>0</td>\n",
       "      <td>9</td>\n",
       "      <td>1</td>\n",
       "      <td>1</td>\n",
       "      <td>37.78638</td>\n",
       "      <td>-122.40490</td>\n",
       "      <td>0</td>\n",
       "      <td>0</td>\n",
       "      <td>1</td>\n",
       "    </tr>\n",
       "    <tr>\n",
       "      <th>1</th>\n",
       "      <td>2</td>\n",
       "      <td>2019-01-01 09:00:00</td>\n",
       "      <td>3</td>\n",
       "      <td>5063</td>\n",
       "      <td>107.800000</td>\n",
       "      <td>2</td>\n",
       "      <td>10.0</td>\n",
       "      <td>30.0</td>\n",
       "      <td>0</td>\n",
       "      <td>9</td>\n",
       "      <td>1</td>\n",
       "      <td>1</td>\n",
       "      <td>37.78638</td>\n",
       "      <td>-122.40490</td>\n",
       "      <td>0</td>\n",
       "      <td>0</td>\n",
       "      <td>1</td>\n",
       "    </tr>\n",
       "    <tr>\n",
       "      <th>2</th>\n",
       "      <td>3</td>\n",
       "      <td>2019-01-01 09:00:00</td>\n",
       "      <td>3</td>\n",
       "      <td>5262</td>\n",
       "      <td>98.400000</td>\n",
       "      <td>3</td>\n",
       "      <td>10.0</td>\n",
       "      <td>30.0</td>\n",
       "      <td>0</td>\n",
       "      <td>9</td>\n",
       "      <td>1</td>\n",
       "      <td>1</td>\n",
       "      <td>37.78638</td>\n",
       "      <td>-122.40490</td>\n",
       "      <td>0</td>\n",
       "      <td>0</td>\n",
       "      <td>1</td>\n",
       "    </tr>\n",
       "    <tr>\n",
       "      <th>3</th>\n",
       "      <td>4</td>\n",
       "      <td>2019-01-01 10:00:00</td>\n",
       "      <td>3</td>\n",
       "      <td>5354</td>\n",
       "      <td>31.116667</td>\n",
       "      <td>4</td>\n",
       "      <td>9.0</td>\n",
       "      <td>37.0</td>\n",
       "      <td>0</td>\n",
       "      <td>10</td>\n",
       "      <td>1</td>\n",
       "      <td>1</td>\n",
       "      <td>37.78638</td>\n",
       "      <td>-122.40490</td>\n",
       "      <td>0</td>\n",
       "      <td>0</td>\n",
       "      <td>1</td>\n",
       "    </tr>\n",
       "    <tr>\n",
       "      <th>4</th>\n",
       "      <td>5</td>\n",
       "      <td>2019-01-01 10:00:00</td>\n",
       "      <td>3</td>\n",
       "      <td>4760</td>\n",
       "      <td>25.700000</td>\n",
       "      <td>5</td>\n",
       "      <td>9.0</td>\n",
       "      <td>37.0</td>\n",
       "      <td>0</td>\n",
       "      <td>10</td>\n",
       "      <td>1</td>\n",
       "      <td>1</td>\n",
       "      <td>37.78638</td>\n",
       "      <td>-122.40490</td>\n",
       "      <td>0</td>\n",
       "      <td>0</td>\n",
       "      <td>1</td>\n",
       "    </tr>\n",
       "    <tr>\n",
       "      <th>...</th>\n",
       "      <td>...</td>\n",
       "      <td>...</td>\n",
       "      <td>...</td>\n",
       "      <td>...</td>\n",
       "      <td>...</td>\n",
       "      <td>...</td>\n",
       "      <td>...</td>\n",
       "      <td>...</td>\n",
       "      <td>...</td>\n",
       "      <td>...</td>\n",
       "      <td>...</td>\n",
       "      <td>...</td>\n",
       "      <td>...</td>\n",
       "      <td>...</td>\n",
       "      <td>...</td>\n",
       "      <td>...</td>\n",
       "      <td>...</td>\n",
       "    </tr>\n",
       "    <tr>\n",
       "      <th>3130983</th>\n",
       "      <td>3132765</td>\n",
       "      <td>2019-12-23 17:00:00</td>\n",
       "      <td>498</td>\n",
       "      <td>12424</td>\n",
       "      <td>1.083333</td>\n",
       "      <td>2</td>\n",
       "      <td>10.0</td>\n",
       "      <td>6.0</td>\n",
       "      <td>0</td>\n",
       "      <td>17</td>\n",
       "      <td>1</td>\n",
       "      <td>12</td>\n",
       "      <td>37.72589</td>\n",
       "      <td>-122.45244</td>\n",
       "      <td>0</td>\n",
       "      <td>1</td>\n",
       "      <td>1</td>\n",
       "    </tr>\n",
       "    <tr>\n",
       "      <th>3130984</th>\n",
       "      <td>3132766</td>\n",
       "      <td>2019-12-23 17:00:00</td>\n",
       "      <td>498</td>\n",
       "      <td>353685</td>\n",
       "      <td>975.483333</td>\n",
       "      <td>2</td>\n",
       "      <td>10.0</td>\n",
       "      <td>6.0</td>\n",
       "      <td>0</td>\n",
       "      <td>17</td>\n",
       "      <td>1</td>\n",
       "      <td>12</td>\n",
       "      <td>37.72589</td>\n",
       "      <td>-122.45244</td>\n",
       "      <td>0</td>\n",
       "      <td>1</td>\n",
       "      <td>1</td>\n",
       "    </tr>\n",
       "    <tr>\n",
       "      <th>3130985</th>\n",
       "      <td>3132767</td>\n",
       "      <td>2019-12-24 10:00:00</td>\n",
       "      <td>498</td>\n",
       "      <td>10310</td>\n",
       "      <td>196.016667</td>\n",
       "      <td>2</td>\n",
       "      <td>8.0</td>\n",
       "      <td>15.0</td>\n",
       "      <td>0</td>\n",
       "      <td>10</td>\n",
       "      <td>1</td>\n",
       "      <td>12</td>\n",
       "      <td>37.72589</td>\n",
       "      <td>-122.45244</td>\n",
       "      <td>0</td>\n",
       "      <td>1</td>\n",
       "      <td>1</td>\n",
       "    </tr>\n",
       "    <tr>\n",
       "      <th>3130986</th>\n",
       "      <td>3132768</td>\n",
       "      <td>2019-12-30 14:00:00</td>\n",
       "      <td>498</td>\n",
       "      <td>10962</td>\n",
       "      <td>0.383333</td>\n",
       "      <td>1</td>\n",
       "      <td>9.0</td>\n",
       "      <td>11.0</td>\n",
       "      <td>0</td>\n",
       "      <td>14</td>\n",
       "      <td>1</td>\n",
       "      <td>12</td>\n",
       "      <td>37.72589</td>\n",
       "      <td>-122.45244</td>\n",
       "      <td>0</td>\n",
       "      <td>1</td>\n",
       "      <td>1</td>\n",
       "    </tr>\n",
       "    <tr>\n",
       "      <th>3130987</th>\n",
       "      <td>3132769</td>\n",
       "      <td>2019-12-30 14:00:00</td>\n",
       "      <td>498</td>\n",
       "      <td>10962</td>\n",
       "      <td>1252.866667</td>\n",
       "      <td>1</td>\n",
       "      <td>9.0</td>\n",
       "      <td>11.0</td>\n",
       "      <td>0</td>\n",
       "      <td>14</td>\n",
       "      <td>1</td>\n",
       "      <td>12</td>\n",
       "      <td>37.72589</td>\n",
       "      <td>-122.45244</td>\n",
       "      <td>0</td>\n",
       "      <td>1</td>\n",
       "      <td>1</td>\n",
       "    </tr>\n",
       "  </tbody>\n",
       "</table>\n",
       "<p>3130988 rows × 17 columns</p>\n",
       "</div>"
      ],
      "text/plain": [
       "         Unnamed: 0            timestamp  station_id  bike_id    idle_time  \\\n",
       "0                 1  2019-01-01 09:00:00           3     2191   113.283333   \n",
       "1                 2  2019-01-01 09:00:00           3     5063   107.800000   \n",
       "2                 3  2019-01-01 09:00:00           3     5262    98.400000   \n",
       "3                 4  2019-01-01 10:00:00           3     5354    31.116667   \n",
       "4                 5  2019-01-01 10:00:00           3     4760    25.700000   \n",
       "...             ...                  ...         ...      ...          ...   \n",
       "3130983     3132765  2019-12-23 17:00:00         498    12424     1.083333   \n",
       "3130984     3132766  2019-12-23 17:00:00         498   353685   975.483333   \n",
       "3130985     3132767  2019-12-24 10:00:00         498    10310   196.016667   \n",
       "3130986     3132768  2019-12-30 14:00:00         498    10962     0.383333   \n",
       "3130987     3132769  2019-12-30 14:00:00         498    10962  1252.866667   \n",
       "\n",
       "         bike_count  temperature  windspeed  rain  hour  IsWeekday  month  \\\n",
       "0                 1         10.0       30.0     0     9          1      1   \n",
       "1                 2         10.0       30.0     0     9          1      1   \n",
       "2                 3         10.0       30.0     0     9          1      1   \n",
       "3                 4          9.0       37.0     0    10          1      1   \n",
       "4                 5          9.0       37.0     0    10          1      1   \n",
       "...             ...          ...        ...   ...   ...        ...    ...   \n",
       "3130983           2         10.0        6.0     0    17          1     12   \n",
       "3130984           2         10.0        6.0     0    17          1     12   \n",
       "3130985           2          8.0       15.0     0    10          1     12   \n",
       "3130986           1          9.0       11.0     0    14          1     12   \n",
       "3130987           1          9.0       11.0     0    14          1     12   \n",
       "\n",
       "              lat        lon  near_bus_station  near_school  \\\n",
       "0        37.78638 -122.40490                 0            0   \n",
       "1        37.78638 -122.40490                 0            0   \n",
       "2        37.78638 -122.40490                 0            0   \n",
       "3        37.78638 -122.40490                 0            0   \n",
       "4        37.78638 -122.40490                 0            0   \n",
       "...           ...        ...               ...          ...   \n",
       "3130983  37.72589 -122.45244                 0            1   \n",
       "3130984  37.72589 -122.45244                 0            1   \n",
       "3130985  37.72589 -122.45244                 0            1   \n",
       "3130986  37.72589 -122.45244                 0            1   \n",
       "3130987  37.72589 -122.45244                 0            1   \n",
       "\n",
       "         near_leisure_spots  \n",
       "0                         1  \n",
       "1                         1  \n",
       "2                         1  \n",
       "3                         1  \n",
       "4                         1  \n",
       "...                     ...  \n",
       "3130983                   1  \n",
       "3130984                   1  \n",
       "3130985                   1  \n",
       "3130986                   1  \n",
       "3130987                   1  \n",
       "\n",
       "[3130988 rows x 17 columns]"
      ]
     },
     "execution_count": 4,
     "metadata": {},
     "output_type": "execute_result"
    }
   ],
   "source": [
    "df"
   ]
  },
  {
   "attachments": {},
   "cell_type": "markdown",
   "metadata": {},
   "source": [
    "# Transform cyclic features"
   ]
  },
  {
   "cell_type": "code",
   "execution_count": 5,
   "metadata": {},
   "outputs": [],
   "source": [
    "df.timestamp = pd.to_datetime(df['timestamp'],format ='%Y-%m-%d %H:%M:%S')"
   ]
  },
  {
   "cell_type": "code",
   "execution_count": 6,
   "metadata": {},
   "outputs": [],
   "source": [
    "from pandas.tseries.holiday import USFederalHolidayCalendar\n",
    "cal = USFederalHolidayCalendar()\n",
    "start_date = '2019-01-01'\n",
    "end_date = '2019-12-31'\n",
    "holidays = cal.holidays(start=start_date, end=end_date)\n",
    "\n"
   ]
  },
  {
   "cell_type": "code",
   "execution_count": 7,
   "metadata": {},
   "outputs": [],
   "source": [
    "df['year'] = df['timestamp'].dt.year\n",
    "df['month'] = df['timestamp'].dt.month\n",
    "df['day'] = df['timestamp'].dt.day\n",
    "\n",
    "# Create a new 'date' column with the timestamp\n",
    "df['date'] = pd.to_datetime(df[['year', 'month', 'day']])"
   ]
  },
  {
   "cell_type": "code",
   "execution_count": 8,
   "metadata": {},
   "outputs": [],
   "source": [
    "df['IsHoliday'] = (df['date'].isin(holidays)).astype(int)"
   ]
  },
  {
   "cell_type": "code",
   "execution_count": 9,
   "metadata": {},
   "outputs": [],
   "source": [
    "df.drop(['year','day'],axis = 1,inplace= True)"
   ]
  },
  {
   "cell_type": "code",
   "execution_count": 10,
   "metadata": {},
   "outputs": [
    {
     "name": "stderr",
     "output_type": "stream",
     "text": [
      "c:\\Users\\riven\\anaconda3\\lib\\site-packages\\sklearn\\preprocessing\\_encoders.py:868: FutureWarning: `sparse` was renamed to `sparse_output` in version 1.2 and will be removed in 1.4. `sparse_output` is ignored unless you leave `sparse` to its default value.\n",
      "  warnings.warn(\n"
     ]
    }
   ],
   "source": [
    "\n",
    "from sklearn.preprocessing import OneHotEncoder\n",
    "\n",
    "\n",
    "# Define the mapping of months to seasons\n",
    "season_mapping = {\n",
    "    1: 'Winter',\n",
    "    2: 'Winter',\n",
    "    3: 'Spring',\n",
    "    4: 'Spring',\n",
    "    5: 'Spring',\n",
    "    6: 'Summer',\n",
    "    7: 'Summer',\n",
    "    8: 'Summer',\n",
    "    9: 'Autumn',\n",
    "    10: 'Autumn',\n",
    "    11: 'Autumn',\n",
    "    12: 'Winter'\n",
    "}\n",
    "\n",
    "# Map the month values to seasons using the defined mapping\n",
    "df['season'] = df['month'].map(season_mapping)\n",
    "\n",
    "# Perform one-hot encoding on the 'season' column\n",
    "encoder = OneHotEncoder(sparse=False)\n",
    "df['season'] = encoder.fit_transform(df[['season']])\n",
    "\n",
    "\n",
    "\n",
    "\n"
   ]
  },
  {
   "cell_type": "code",
   "execution_count": 11,
   "metadata": {},
   "outputs": [],
   "source": [
    "from sklearn.preprocessing import FunctionTransformer\n",
    "\n",
    "def sin_transformer(period):\n",
    "    return FunctionTransformer(lambda x: np.sin(x / period * 2 * np.pi))\n",
    "\n",
    "\n",
    "def cos_transformer(period):\n",
    "    return FunctionTransformer(lambda x: np.cos(x / period * 2 * np.pi))\n",
    "\n",
    "hour_arr = np.array(df['hour'])\n",
    "month_arr = np.array(df['month'])\n",
    "\n",
    "\n",
    "df['hour_sin'] = sin_transformer(24).fit_transform(hour_arr.reshape(-1,1))\n",
    "df['hour_cos'] = cos_transformer(24).fit_transform(hour_arr.reshape(-1,1))\n",
    "df['month_sin'] = sin_transformer(12).fit_transform(month_arr.reshape(-1,1))\n",
    "df['month_cos'] = cos_transformer(12).fit_transform(month_arr.reshape(-1,1))\n"
   ]
  },
  {
   "attachments": {},
   "cell_type": "markdown",
   "metadata": {},
   "source": [
    "# Remove outlier"
   ]
  },
  {
   "cell_type": "code",
   "execution_count": 12,
   "metadata": {},
   "outputs": [],
   "source": [
    "# Assuming you have a DataFrame named 'df' and want to remove outliers from column 'column_name'\n",
    "\n",
    "# Calculate the z-scores for each value in the column\n",
    "z_scores = np.abs((df['idle_time'] - df['idle_time'].mean()) / df['idle_time'].std())\n",
    "\n",
    "# Define a threshold for outliers (e.g., z-score > 3)\n",
    "threshold = 1.5\n",
    "\n",
    "# Create a boolean mask indicating the outliers\n",
    "outliers_mask = z_scores > threshold\n",
    "\n",
    "# Remove outliers from the column by replacing them with NaN values\n",
    "df.loc[outliers_mask, 'idle_time'] = np.nan\n",
    "\n",
    "# Return the modified column back to the original DataFrame\n",
    "df = df.dropna(subset=['idle_time']) # Replace NaN values with median or any other desired method"
   ]
  },
  {
   "cell_type": "code",
   "execution_count": 13,
   "metadata": {},
   "outputs": [
    {
     "data": {
      "text/plain": [
       "(3076850, 24)"
      ]
     },
     "execution_count": 13,
     "metadata": {},
     "output_type": "execute_result"
    }
   ],
   "source": [
    "df.shape"
   ]
  },
  {
   "cell_type": "code",
   "execution_count": 14,
   "metadata": {},
   "outputs": [],
   "source": [
    "features =['idle_time',\n",
    "       'bike_count', 'temperature', 'windspeed', 'rain', 'hour', 'IsWeekday',\n",
    "       'month','near_bus_station', 'near_school',\n",
    "       'near_leisure_spots', 'hour_sin', 'hour_cos', 'IsHoliday',\n",
    "       'season']\n",
    "\n",
    "used = df[features]"
   ]
  },
  {
   "cell_type": "code",
   "execution_count": 15,
   "metadata": {},
   "outputs": [
    {
     "data": {
      "image/png": "[encoded data removed]",
      "text/plain": [
       "<Figure size 1440x720 with 2 Axes>"
      ]
     },
     "metadata": {
      "needs_background": "light"
     },
     "output_type": "display_data"
    }
   ],
   "source": [
    "plt.figure(figsize=(20, 10))\n",
    "corr = used.corr()\n",
    "# Create the heatmap\n",
    "sns.heatmap(corr, cmap='RdBu', vmin=-1, vmax=1, annot=True)\n",
    "plt.show()"
   ]
  },
  {
   "cell_type": "code",
   "execution_count": 16,
   "metadata": {},
   "outputs": [],
   "source": [
    "xp = df[['bike_count', 'temperature', 'windspeed', 'hour_sin', 'hour_cos','month_sin','month_cos', 'rain', 'IsWeekday',\n",
    "       'near_bus_station', 'near_school',\n",
    "       'near_leisure_spots','IsHoliday','season'\n",
    "       ]].values\n",
    "\n",
    "yp= df['idle_time'].values"
   ]
  },
  {
   "cell_type": "code",
   "execution_count": 17,
   "metadata": {},
   "outputs": [],
   "source": [
    "sample_set = df[['bike_count', 'temperature', 'windspeed', 'hour_sin', 'hour_cos','month_sin','month_cos', 'rain', 'IsWeekday',\n",
    "       'near_bus_station', 'near_school',\n",
    "       'near_leisure_spots','IsHoliday','season','idle_time'\n",
    "       ]].values"
   ]
  },
  {
   "cell_type": "code",
   "execution_count": 19,
   "metadata": {},
   "outputs": [],
   "source": [
    "sample_size = 30000\n",
    "random_indices = np.random.choice(sample_set.shape[0], size=sample_size, replace=False)\n",
    "sample = sample_set[random_indices,:]\n",
    "\n",
    "xs = sample[:,:14]\n",
    "ys = sample[:,14:]"
   ]
  },
  {
   "cell_type": "code",
   "execution_count": 53,
   "metadata": {},
   "outputs": [],
   "source": [
    "X_train_val, X_test, y_train_val, y_test = train_test_split(xp, yp, test_size=0.15, random_state=42)\n",
    "X_train, X_val, y_train, y_val = train_test_split(X_train_val, y_train_val, test_size=0.1765, random_state=42)"
   ]
  },
  {
   "attachments": {},
   "cell_type": "markdown",
   "metadata": {},
   "source": [
    "Scaling features"
   ]
  },
  {
   "cell_type": "code",
   "execution_count": 20,
   "metadata": {},
   "outputs": [],
   "source": [
    "from sklearn.preprocessing import StandardScaler\n",
    "\n",
    "\n",
    "scaler = StandardScaler()\n",
    "# X_train[:,:3] = scaler.fit_transform(X_train[:,:3])\n",
    "# X_test[:,:3] = scaler.transform(X_test[:,:3])\n",
    "# X_val[:,:3] = scaler.transform(X_val[:,:3])\n",
    "\n",
    "xs[:,:3] = scaler.fit_transform(xs[:,:3])\n"
   ]
  },
  {
   "cell_type": "code",
   "execution_count": 84,
   "metadata": {},
   "outputs": [
    {
     "data": {
      "text/plain": [
       "(10000, 14)"
      ]
     },
     "execution_count": 84,
     "metadata": {},
     "output_type": "execute_result"
    }
   ],
   "source": [
    "xs.shape"
   ]
  },
  {
   "cell_type": "code",
   "execution_count": 21,
   "metadata": {},
   "outputs": [],
   "source": [
    "from sklearn.preprocessing import PolynomialFeatures\n",
    "degree = 7\n",
    "poly = PolynomialFeatures(degree= degree,include_bias= False)\n",
    "# poly_fts_train = poly.fit_transform(X_train[:,:5])\n",
    "# poly_fts_test = poly.transform(X_test[:,:5])\n",
    "# poly_fts_val = poly.transform(X_val[:,:5])\n",
    "\n",
    "poly_fts_xs = poly.fit_transform(xs[:,:7])\n",
    "\n",
    "\n"
   ]
  },
  {
   "cell_type": "code",
   "execution_count": 22,
   "metadata": {},
   "outputs": [],
   "source": [
    "# non_poly_train = X_train[:,5:]\n",
    "# non_poly_test = X_test[:,5:]\n",
    "# non_poly_val = X_val[:,5:]\n",
    "\n",
    "non_poly_xs = xs[:,7:]\n",
    "\n"
   ]
  },
  {
   "cell_type": "code",
   "execution_count": 23,
   "metadata": {},
   "outputs": [],
   "source": [
    "# poly_train = np.concatenate((poly_fts_train,non_poly_train),axis =1)\n",
    "# poly_test = np.concatenate((poly_fts_test,non_poly_test),axis =1)\n",
    "# poly_val = np.concatenate((poly_fts_val,non_poly_val),axis =1)\n",
    "\n",
    "poly_xs = np.concatenate((poly_fts_xs,non_poly_xs),axis =1)"
   ]
  },
  {
   "cell_type": "code",
   "execution_count": 24,
   "metadata": {},
   "outputs": [
    {
     "data": {
      "text/plain": [
       "(30000, 3438)"
      ]
     },
     "execution_count": 24,
     "metadata": {},
     "output_type": "execute_result"
    }
   ],
   "source": [
    "poly_xs.shape"
   ]
  },
  {
   "cell_type": "code",
   "execution_count": 54,
   "metadata": {},
   "outputs": [],
   "source": [
    "\n",
    "# define base model\n",
    "\n",
    " # create model\n",
    "model = Sequential()\n",
    "model.add(Dense(10, input_shape=(126,), kernel_initializer='normal', activation='relu'))\n",
    "model.add(Dense(10, kernel_initializer='normal', activation='relu'))\n",
    "model.add(Dense(10, kernel_initializer='normal', activation='relu'))\n",
    "\n",
    "\n",
    "\n",
    "\n",
    "model.add(Dense(1, kernel_initializer='normal'))\n",
    " # Compile model\n",
    "model.compile(loss='mean_squared_error', optimizer='adam'\n",
    "             )\n"
   ]
  },
  {
   "cell_type": "code",
   "execution_count": 55,
   "metadata": {},
   "outputs": [
    {
     "name": "stdout",
     "output_type": "stream",
     "text": [
      "Epoch 1/50\n",
      "313/313 [==============================] - 2s 2ms/step - loss: 19073.0625\n",
      "Epoch 2/50\n",
      "313/313 [==============================] - 1s 2ms/step - loss: 15718.6240\n",
      "Epoch 3/50\n",
      "313/313 [==============================] - 1s 2ms/step - loss: 14755.4590\n",
      "Epoch 4/50\n",
      "313/313 [==============================] - 1s 2ms/step - loss: 14187.1631\n",
      "Epoch 5/50\n",
      "313/313 [==============================] - 1s 2ms/step - loss: 13924.9150\n",
      "Epoch 6/50\n",
      "313/313 [==============================] - 1s 2ms/step - loss: 13759.3779\n",
      "Epoch 7/50\n",
      "313/313 [==============================] - 1s 3ms/step - loss: 13684.6094\n",
      "Epoch 8/50\n",
      "313/313 [==============================] - 1s 2ms/step - loss: 13634.7666\n",
      "Epoch 9/50\n",
      "313/313 [==============================] - 1s 2ms/step - loss: 13577.8398\n",
      "Epoch 10/50\n",
      "313/313 [==============================] - 1s 2ms/step - loss: 13534.0752\n",
      "Epoch 11/50\n",
      "313/313 [==============================] - 1s 2ms/step - loss: 13508.1836\n",
      "Epoch 12/50\n",
      "313/313 [==============================] - 1s 2ms/step - loss: 13488.7197\n",
      "Epoch 13/50\n",
      "313/313 [==============================] - 1s 2ms/step - loss: 13494.4111\n",
      "Epoch 14/50\n",
      "313/313 [==============================] - 1s 3ms/step - loss: 13467.7939\n",
      "Epoch 15/50\n",
      "313/313 [==============================] - 1s 2ms/step - loss: 13484.8652\n",
      "Epoch 16/50\n",
      "313/313 [==============================] - 1s 2ms/step - loss: 13447.8779\n",
      "Epoch 17/50\n",
      "313/313 [==============================] - 1s 2ms/step - loss: 13425.8447\n",
      "Epoch 18/50\n",
      "313/313 [==============================] - 1s 2ms/step - loss: 13415.0166\n",
      "Epoch 19/50\n",
      "313/313 [==============================] - 1s 2ms/step - loss: 13374.4844\n",
      "Epoch 20/50\n",
      "313/313 [==============================] - 1s 2ms/step - loss: 13364.0127\n",
      "Epoch 21/50\n",
      "313/313 [==============================] - 1s 2ms/step - loss: 13382.1680\n",
      "Epoch 22/50\n",
      "313/313 [==============================] - 1s 2ms/step - loss: 13361.3057\n",
      "Epoch 23/50\n",
      "313/313 [==============================] - 1s 2ms/step - loss: 13338.0879\n",
      "Epoch 24/50\n",
      "313/313 [==============================] - 1s 2ms/step - loss: 13342.4004\n",
      "Epoch 25/50\n",
      "313/313 [==============================] - 1s 2ms/step - loss: 13314.7656\n",
      "Epoch 26/50\n",
      "313/313 [==============================] - 1s 2ms/step - loss: 13314.6143\n",
      "Epoch 27/50\n",
      "313/313 [==============================] - 1s 2ms/step - loss: 13320.4229\n",
      "Epoch 28/50\n",
      "313/313 [==============================] - 1s 2ms/step - loss: 13314.3496\n",
      "Epoch 29/50\n",
      "313/313 [==============================] - 1s 2ms/step - loss: 13296.9951\n",
      "Epoch 30/50\n",
      "313/313 [==============================] - 1s 2ms/step - loss: 13299.4248\n",
      "Epoch 31/50\n",
      "313/313 [==============================] - 1s 2ms/step - loss: 13284.3682\n",
      "Epoch 32/50\n",
      "313/313 [==============================] - 1s 2ms/step - loss: 13284.2441\n",
      "Epoch 33/50\n",
      "313/313 [==============================] - 1s 2ms/step - loss: 13266.2295\n",
      "Epoch 34/50\n",
      "313/313 [==============================] - 1s 2ms/step - loss: 13258.5029\n",
      "Epoch 35/50\n",
      "313/313 [==============================] - 1s 2ms/step - loss: 13260.0449\n",
      "Epoch 36/50\n",
      "313/313 [==============================] - 1s 2ms/step - loss: 13246.1895\n",
      "Epoch 37/50\n",
      "313/313 [==============================] - 1s 2ms/step - loss: 13255.8770\n",
      "Epoch 38/50\n",
      "313/313 [==============================] - 1s 2ms/step - loss: 13224.3887\n",
      "Epoch 39/50\n",
      "313/313 [==============================] - 1s 2ms/step - loss: 13232.2910\n",
      "Epoch 40/50\n",
      "313/313 [==============================] - 1s 2ms/step - loss: 13216.0986\n",
      "Epoch 41/50\n",
      "313/313 [==============================] - 1s 2ms/step - loss: 13232.9590\n",
      "Epoch 42/50\n",
      "313/313 [==============================] - 1s 2ms/step - loss: 13212.7617\n",
      "Epoch 43/50\n",
      "313/313 [==============================] - 1s 2ms/step - loss: 13184.9395\n",
      "Epoch 44/50\n",
      "313/313 [==============================] - 1s 2ms/step - loss: 13200.7676\n",
      "Epoch 45/50\n",
      "313/313 [==============================] - 1s 2ms/step - loss: 13199.0088\n",
      "Epoch 46/50\n",
      "313/313 [==============================] - 1s 2ms/step - loss: 13198.4609\n",
      "Epoch 47/50\n",
      "313/313 [==============================] - 1s 2ms/step - loss: 13171.2959\n",
      "Epoch 48/50\n",
      "313/313 [==============================] - 1s 2ms/step - loss: 13183.7510\n",
      "Epoch 49/50\n",
      "313/313 [==============================] - 1s 2ms/step - loss: 13162.0049\n",
      "Epoch 50/50\n",
      "313/313 [==============================] - 1s 2ms/step - loss: 13150.0977\n"
     ]
    },
    {
     "data": {
      "text/plain": [
       "<keras.callbacks.History at 0x280eed72670>"
      ]
     },
     "execution_count": 55,
     "metadata": {},
     "output_type": "execute_result"
    }
   ],
   "source": [
    "model.fit(poly_xs,ys, batch_size =32, epochs = 50)"
   ]
  },
  {
   "cell_type": "code",
   "execution_count": null,
   "metadata": {},
   "outputs": [],
   "source": [
    "estimators = []\n",
    "estimators.append(('standardize', StandardScaler()))\n",
    "estimators.append(('mlp', KerasRegressor(model=baseline_model, epochs=50, batch_size=5, verbose=0)))\n",
    "pipeline = Pipeline(estimators)\n",
    "kfold = KFold(n_splits=10)\n",
    "results = cross_val_score(pipeline, X, Y, cv=kfold, scoring='neg_mean_squared_error')\n",
    "print(\"Standardized: %.2f (%.2f) MSE\" % (results.mean(), results.std()))\n"
   ]
  },
  {
   "cell_type": "code",
   "execution_count": 25,
   "metadata": {},
   "outputs": [
    {
     "name": "stdout",
     "output_type": "stream",
     "text": [
      "[[-57.43154583 209.30994997  32.46986626 ... -23.05809227   6.1484855\n",
      "   24.7568291 ]] [-64.83158259]\n"
     ]
    },
    {
     "data": {
      "text/plain": [
       "array([-64.83158259])"
      ]
     },
     "execution_count": 25,
     "metadata": {},
     "output_type": "execute_result"
    }
   ],
   "source": [
    "# we use linear regression as a base!!! ** sometimes misunderstood **\n",
    "regression_model = LinearRegression()\n",
    "\n",
    "regression_model.fit(poly_xs, ys)\n",
    "print(regression_model.coef_ ,regression_model.intercept_)\n",
    "regression_model.coef_\n",
    "regression_model.intercept_\n"
   ]
  },
  {
   "cell_type": "code",
   "execution_count": 63,
   "metadata": {},
   "outputs": [
    {
     "name": "stdout",
     "output_type": "stream",
     "text": [
      "Coefficients  [-2.58649653e+01 -5.30123554e+00  2.39626861e+00 -1.55524645e+00\n",
      "  7.53157049e+01  1.25670010e+01 -6.79614630e+00 -1.89164082e+00\n",
      "  3.94947040e+00 -1.53660264e+01 -1.68590178e+00 -1.49988667e+00\n",
      "  3.99958488e-02  2.32884966e+00 -5.68472719e-01 -8.22118789e-02\n",
      "  4.44567769e+00 -5.30332519e+01 -6.66456168e+00  5.30332519e+01\n",
      " -1.19035167e+00  1.36051593e+00  4.08883492e-01 -2.07861953e-01\n",
      "  1.40630753e+00  3.58887701e-01  4.82335151e-02  1.27595707e-01\n",
      " -3.59607384e+00 -2.02401991e-01 -1.99103057e-01 -1.19476344e+00\n",
      " -1.10184709e+01  9.17205808e+00 -1.48464944e+01  6.35527069e-01\n",
      " -1.15323546e+00  7.78799453e-01  1.13305312e-01  5.98522262e-01\n",
      " -2.95078179e+00  1.34299590e+00 -1.74829954e+00  3.54400918e+00\n",
      " -3.55293600e+00 -3.79148400e-02  7.04825806e-01 -1.71370058e+00\n",
      " -1.79009901e+00  3.59736649e+00  4.18636762e+00  2.88592607e+00\n",
      "  2.71041071e+01 -4.44117252e+00  4.82115978e+01 -1.99446294e+01\n",
      "  5.21748890e+00  1.68153184e+01 -1.31829963e+01 -1.43079343e+01\n",
      "  4.07644340e+01 -2.54688866e+01  1.08853859e+01 -1.37007158e+01] \n",
      "Intercept  146.7068159712444\n"
     ]
    }
   ],
   "source": [
    "from sklearn.linear_model import Ridge\n",
    "\n",
    "# initialize model\n",
    "model_L2 = Ridge(alpha = 0.1, solver = 'lsqr') # select least squares regression as solver\n",
    "\n",
    "# train model\n",
    "model_L2.fit(poly_xs, ys)\n",
    "\n",
    "\n",
    "print(\"Coefficients \", model_L2.coef_, \"\\nIntercept \", model_L2.intercept_ )"
   ]
  },
  {
   "cell_type": "code",
   "execution_count": 40,
   "metadata": {},
   "outputs": [
    {
     "name": "stdout",
     "output_type": "stream",
     "text": [
      "Coefficients  [-10.94109817  11.67884208   7.24108358 ... -18.81970645  12.5681727\n",
      "  -6.3859745 ] \n",
      "Intercept  [169.53487577]\n"
     ]
    },
    {
     "name": "stderr",
     "output_type": "stream",
     "text": [
      "c:\\Users\\riven\\anaconda3\\lib\\site-packages\\sklearn\\linear_model\\_coordinate_descent.py:631: ConvergenceWarning: Objective did not converge. You might want to increase the number of iterations, check the scale of the features or consider increasing regularisation. Duality gap: 5.404e+07, tolerance: 1.552e+04\n",
      "  model = cd_fast.enet_coordinate_descent(\n"
     ]
    }
   ],
   "source": [
    "from sklearn.linear_model import Lasso\n",
    "\n",
    "model_L1 = Lasso(alpha = 0.001)\n",
    "\n",
    "model_L1.fit(poly_xs, ys)\n",
    "\n",
    "print(\"Coefficients \", model_L1.coef_, \"\\nIntercept \", model_L1.intercept_ )"
   ]
  },
  {
   "cell_type": "code",
   "execution_count": 85,
   "metadata": {},
   "outputs": [
    {
     "data": {
      "text/plain": [
       "(4156794, 3)"
      ]
     },
     "execution_count": 85,
     "metadata": {},
     "output_type": "execute_result"
    }
   ],
   "source": [
    "poly_val.shape"
   ]
  },
  {
   "cell_type": "code",
   "execution_count": 17,
   "metadata": {},
   "outputs": [],
   "source": [
    "def plot_L2_regression_performance ():\n",
    "\n",
    "    err_train = []\n",
    "    err_cv = []\n",
    "    \n",
    "    \n",
    "\n",
    "    for alpha in np.logspace(-20,-10,20):\n",
    "\n",
    "        \n",
    "        \n",
    "        \n",
    "\n",
    "        # fit model\n",
    "        model_L2 = Ridge(alpha = alpha, solver = 'lsqr') # select least squares regression as solver\n",
    "        model_L2.fit(poly_x, y_train)\n",
    "    \n",
    "        # compute errors\n",
    "        err_train.append(mean_squared_error(model_L2.predict(poly_x), y_train))\n",
    "        err_cv.append(mean_squared_error(model_L2.predict(poly_val), y_val))\n",
    "\n",
    "\n",
    "    plt.figure(figsize = (8,6))\n",
    "    plt.loglog(np.logspace(-20,-10,20), err_train, np.logspace(-20,-10,20), err_cv)\n",
    "    plt.legend([\"Training\", \"Validation\"])\n",
    "    plt.xlabel(\"$\\lambda$ (or alpha in scikit learn terms)\")\n",
    "    plt.ylabel(\"Mean squared error\")\n",
    "    plt.show()"
   ]
  },
  {
   "cell_type": "code",
   "execution_count": 18,
   "metadata": {},
   "outputs": [
    {
     "data": {
      "image/png": "[encoded data removed]",
      "text/plain": [
       "<Figure size 576x432 with 1 Axes>"
      ]
     },
     "metadata": {
      "needs_background": "light"
     },
     "output_type": "display_data"
    }
   ],
   "source": [
    "plot_L2_regression_performance()"
   ]
  },
  {
   "cell_type": "code",
   "execution_count": 27,
   "metadata": {},
   "outputs": [
    {
     "name": "stdout",
     "output_type": "stream",
     "text": [
      "Test set performance:\n",
      "MAE: 60.94227273864033\n",
      "RMSE: 109.94255876342449\n",
      "R2: 0.2774316674639161\n"
     ]
    }
   ],
   "source": [
    "\n",
    "train_pred = regression_model.predict(poly_xs)\n",
    "print(\"Test set performance:\")\n",
    "\n",
    "print(\"MAE:\",mean_absolute_error(ys, train_pred))\n",
    "print(\"RMSE:\",(mean_squared_error(ys, train_pred))**(0.5))  \n",
    "print(\"R2:\",r2_score(ys, train_pred))"
   ]
  },
  {
   "cell_type": "code",
   "execution_count": 33,
   "metadata": {},
   "outputs": [
    {
     "data": {
      "text/plain": [
       "372.8500475657638"
      ]
     },
     "execution_count": 33,
     "metadata": {},
     "output_type": "execute_result"
    }
   ],
   "source": [
    "train_pred.max()"
   ]
  }
 ],
 "metadata": {
  "kernelspec": {
   "display_name": "base",
   "language": "python",
   "name": "python3"
  },
  "language_info": {
   "codemirror_mode": {
    "name": "ipython",
    "version": 3
   },
   "file_extension": ".py",
   "mimetype": "text/x-python",
   "name": "python",
   "nbconvert_exporter": "python",
   "pygments_lexer": "ipython3",
   "version": "3.9.7"
  },
  "orig_nbformat": 4
 },
 "nbformat": 4,
 "nbformat_minor": 2
}
