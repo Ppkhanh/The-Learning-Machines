{
 "cells": [
  {
   "cell_type": "code",
   "execution_count": 87,
   "metadata": {},
   "outputs": [],
   "source": [
    "import numpy as np\n",
    "import matplotlib.pyplot as plt\n",
    "import seaborn as sns\n",
    "import pandas as pd\n",
    "from sklearn.linear_model import LinearRegression\n",
    "from sklearn.model_selection import train_test_split\n",
    "from sklearn.metrics import mean_squared_error, mean_absolute_error, r2_score\n",
    "import datetime\n",
    "from keras.models import Sequential\n",
    "from keras.layers import Dense, Dropout\n",
    "from scikeras.wrappers import KerasRegressor"
   ]
  },
  {
   "cell_type": "code",
   "execution_count": 88,
   "metadata": {},
   "outputs": [],
   "source": [
    "df = pd.read_csv(\"Predict_ready_df\")"
   ]
  },
  {
   "cell_type": "code",
   "execution_count": 89,
   "metadata": {},
   "outputs": [],
   "source": [
    "df.drop(df[df['idle_time']==0].index,inplace= True)"
   ]
  },
  {
   "cell_type": "code",
   "execution_count": 90,
   "metadata": {},
   "outputs": [
    {
     "data": {
      "text/html": [
       "<div>\n",
       "<style scoped>\n",
       "    .dataframe tbody tr th:only-of-type {\n",
       "        vertical-align: middle;\n",
       "    }\n",
       "\n",
       "    .dataframe tbody tr th {\n",
       "        vertical-align: top;\n",
       "    }\n",
       "\n",
       "    .dataframe thead th {\n",
       "        text-align: right;\n",
       "    }\n",
       "</style>\n",
       "<table border=\"1\" class=\"dataframe\">\n",
       "  <thead>\n",
       "    <tr style=\"text-align: right;\">\n",
       "      <th></th>\n",
       "      <th>Unnamed: 0</th>\n",
       "      <th>timestamp</th>\n",
       "      <th>station_id</th>\n",
       "      <th>bike_id</th>\n",
       "      <th>idle_time</th>\n",
       "      <th>temperature</th>\n",
       "      <th>rain</th>\n",
       "      <th>hour</th>\n",
       "      <th>IsWeekday</th>\n",
       "      <th>lat</th>\n",
       "      <th>lon</th>\n",
       "      <th>near_bus_station</th>\n",
       "      <th>near_school</th>\n",
       "      <th>near_leisure_spots</th>\n",
       "    </tr>\n",
       "  </thead>\n",
       "  <tbody>\n",
       "    <tr>\n",
       "      <th>1</th>\n",
       "      <td>1</td>\n",
       "      <td>2019-01-01 09:00:00</td>\n",
       "      <td>3</td>\n",
       "      <td>2191</td>\n",
       "      <td>113.283333</td>\n",
       "      <td>10.0</td>\n",
       "      <td>0</td>\n",
       "      <td>9</td>\n",
       "      <td>1</td>\n",
       "      <td>37.78638</td>\n",
       "      <td>-122.40490</td>\n",
       "      <td>0</td>\n",
       "      <td>0</td>\n",
       "      <td>1</td>\n",
       "    </tr>\n",
       "    <tr>\n",
       "      <th>2</th>\n",
       "      <td>2</td>\n",
       "      <td>2019-01-01 09:00:00</td>\n",
       "      <td>3</td>\n",
       "      <td>5063</td>\n",
       "      <td>107.800000</td>\n",
       "      <td>10.0</td>\n",
       "      <td>0</td>\n",
       "      <td>9</td>\n",
       "      <td>1</td>\n",
       "      <td>37.78638</td>\n",
       "      <td>-122.40490</td>\n",
       "      <td>0</td>\n",
       "      <td>0</td>\n",
       "      <td>1</td>\n",
       "    </tr>\n",
       "    <tr>\n",
       "      <th>3</th>\n",
       "      <td>3</td>\n",
       "      <td>2019-01-01 09:00:00</td>\n",
       "      <td>3</td>\n",
       "      <td>5262</td>\n",
       "      <td>98.400000</td>\n",
       "      <td>10.0</td>\n",
       "      <td>0</td>\n",
       "      <td>9</td>\n",
       "      <td>1</td>\n",
       "      <td>37.78638</td>\n",
       "      <td>-122.40490</td>\n",
       "      <td>0</td>\n",
       "      <td>0</td>\n",
       "      <td>1</td>\n",
       "    </tr>\n",
       "    <tr>\n",
       "      <th>4</th>\n",
       "      <td>4</td>\n",
       "      <td>2019-01-01 10:00:00</td>\n",
       "      <td>3</td>\n",
       "      <td>5354</td>\n",
       "      <td>31.116667</td>\n",
       "      <td>9.0</td>\n",
       "      <td>0</td>\n",
       "      <td>10</td>\n",
       "      <td>1</td>\n",
       "      <td>37.78638</td>\n",
       "      <td>-122.40490</td>\n",
       "      <td>0</td>\n",
       "      <td>0</td>\n",
       "      <td>1</td>\n",
       "    </tr>\n",
       "    <tr>\n",
       "      <th>5</th>\n",
       "      <td>5</td>\n",
       "      <td>2019-01-01 10:00:00</td>\n",
       "      <td>3</td>\n",
       "      <td>4760</td>\n",
       "      <td>25.700000</td>\n",
       "      <td>9.0</td>\n",
       "      <td>0</td>\n",
       "      <td>10</td>\n",
       "      <td>1</td>\n",
       "      <td>37.78638</td>\n",
       "      <td>-122.40490</td>\n",
       "      <td>0</td>\n",
       "      <td>0</td>\n",
       "      <td>1</td>\n",
       "    </tr>\n",
       "    <tr>\n",
       "      <th>...</th>\n",
       "      <td>...</td>\n",
       "      <td>...</td>\n",
       "      <td>...</td>\n",
       "      <td>...</td>\n",
       "      <td>...</td>\n",
       "      <td>...</td>\n",
       "      <td>...</td>\n",
       "      <td>...</td>\n",
       "      <td>...</td>\n",
       "      <td>...</td>\n",
       "      <td>...</td>\n",
       "      <td>...</td>\n",
       "      <td>...</td>\n",
       "      <td>...</td>\n",
       "    </tr>\n",
       "    <tr>\n",
       "      <th>3132765</th>\n",
       "      <td>3132765</td>\n",
       "      <td>2019-12-23 17:00:00</td>\n",
       "      <td>498</td>\n",
       "      <td>12424</td>\n",
       "      <td>1.083333</td>\n",
       "      <td>10.0</td>\n",
       "      <td>0</td>\n",
       "      <td>17</td>\n",
       "      <td>1</td>\n",
       "      <td>37.72589</td>\n",
       "      <td>-122.45244</td>\n",
       "      <td>0</td>\n",
       "      <td>1</td>\n",
       "      <td>1</td>\n",
       "    </tr>\n",
       "    <tr>\n",
       "      <th>3132766</th>\n",
       "      <td>3132766</td>\n",
       "      <td>2019-12-23 17:00:00</td>\n",
       "      <td>498</td>\n",
       "      <td>353685</td>\n",
       "      <td>975.483333</td>\n",
       "      <td>10.0</td>\n",
       "      <td>0</td>\n",
       "      <td>17</td>\n",
       "      <td>1</td>\n",
       "      <td>37.72589</td>\n",
       "      <td>-122.45244</td>\n",
       "      <td>0</td>\n",
       "      <td>1</td>\n",
       "      <td>1</td>\n",
       "    </tr>\n",
       "    <tr>\n",
       "      <th>3132767</th>\n",
       "      <td>3132767</td>\n",
       "      <td>2019-12-24 10:00:00</td>\n",
       "      <td>498</td>\n",
       "      <td>10310</td>\n",
       "      <td>196.016667</td>\n",
       "      <td>8.0</td>\n",
       "      <td>0</td>\n",
       "      <td>10</td>\n",
       "      <td>1</td>\n",
       "      <td>37.72589</td>\n",
       "      <td>-122.45244</td>\n",
       "      <td>0</td>\n",
       "      <td>1</td>\n",
       "      <td>1</td>\n",
       "    </tr>\n",
       "    <tr>\n",
       "      <th>3132768</th>\n",
       "      <td>3132768</td>\n",
       "      <td>2019-12-30 14:00:00</td>\n",
       "      <td>498</td>\n",
       "      <td>10962</td>\n",
       "      <td>0.383333</td>\n",
       "      <td>9.0</td>\n",
       "      <td>0</td>\n",
       "      <td>14</td>\n",
       "      <td>1</td>\n",
       "      <td>37.72589</td>\n",
       "      <td>-122.45244</td>\n",
       "      <td>0</td>\n",
       "      <td>1</td>\n",
       "      <td>1</td>\n",
       "    </tr>\n",
       "    <tr>\n",
       "      <th>3132769</th>\n",
       "      <td>3132769</td>\n",
       "      <td>2019-12-30 14:00:00</td>\n",
       "      <td>498</td>\n",
       "      <td>10962</td>\n",
       "      <td>1252.866667</td>\n",
       "      <td>9.0</td>\n",
       "      <td>0</td>\n",
       "      <td>14</td>\n",
       "      <td>1</td>\n",
       "      <td>37.72589</td>\n",
       "      <td>-122.45244</td>\n",
       "      <td>0</td>\n",
       "      <td>1</td>\n",
       "      <td>1</td>\n",
       "    </tr>\n",
       "  </tbody>\n",
       "</table>\n",
       "<p>3130988 rows × 14 columns</p>\n",
       "</div>"
      ],
      "text/plain": [
       "         Unnamed: 0            timestamp  station_id  bike_id    idle_time  \\\n",
       "1                 1  2019-01-01 09:00:00           3     2191   113.283333   \n",
       "2                 2  2019-01-01 09:00:00           3     5063   107.800000   \n",
       "3                 3  2019-01-01 09:00:00           3     5262    98.400000   \n",
       "4                 4  2019-01-01 10:00:00           3     5354    31.116667   \n",
       "5                 5  2019-01-01 10:00:00           3     4760    25.700000   \n",
       "...             ...                  ...         ...      ...          ...   \n",
       "3132765     3132765  2019-12-23 17:00:00         498    12424     1.083333   \n",
       "3132766     3132766  2019-12-23 17:00:00         498   353685   975.483333   \n",
       "3132767     3132767  2019-12-24 10:00:00         498    10310   196.016667   \n",
       "3132768     3132768  2019-12-30 14:00:00         498    10962     0.383333   \n",
       "3132769     3132769  2019-12-30 14:00:00         498    10962  1252.866667   \n",
       "\n",
       "         temperature  rain  hour  IsWeekday       lat        lon  \\\n",
       "1               10.0     0     9          1  37.78638 -122.40490   \n",
       "2               10.0     0     9          1  37.78638 -122.40490   \n",
       "3               10.0     0     9          1  37.78638 -122.40490   \n",
       "4                9.0     0    10          1  37.78638 -122.40490   \n",
       "5                9.0     0    10          1  37.78638 -122.40490   \n",
       "...              ...   ...   ...        ...       ...        ...   \n",
       "3132765         10.0     0    17          1  37.72589 -122.45244   \n",
       "3132766         10.0     0    17          1  37.72589 -122.45244   \n",
       "3132767          8.0     0    10          1  37.72589 -122.45244   \n",
       "3132768          9.0     0    14          1  37.72589 -122.45244   \n",
       "3132769          9.0     0    14          1  37.72589 -122.45244   \n",
       "\n",
       "         near_bus_station  near_school  near_leisure_spots  \n",
       "1                       0            0                   1  \n",
       "2                       0            0                   1  \n",
       "3                       0            0                   1  \n",
       "4                       0            0                   1  \n",
       "5                       0            0                   1  \n",
       "...                   ...          ...                 ...  \n",
       "3132765                 0            1                   1  \n",
       "3132766                 0            1                   1  \n",
       "3132767                 0            1                   1  \n",
       "3132768                 0            1                   1  \n",
       "3132769                 0            1                   1  \n",
       "\n",
       "[3130988 rows x 14 columns]"
      ]
     },
     "execution_count": 90,
     "metadata": {},
     "output_type": "execute_result"
    }
   ],
   "source": [
    "df"
   ]
  },
  {
   "attachments": {},
   "cell_type": "markdown",
   "metadata": {},
   "source": [
    "# Transform cyclic features"
   ]
  },
  {
   "cell_type": "code",
   "execution_count": 92,
   "metadata": {},
   "outputs": [],
   "source": [
    "from sklearn.preprocessing import FunctionTransformer\n",
    "\n",
    "def sin_transformer(period):\n",
    "    return FunctionTransformer(lambda x: np.sin(x / period * 2 * np.pi))\n",
    "\n",
    "\n",
    "def cos_transformer(period):\n",
    "    return FunctionTransformer(lambda x: np.cos(x / period * 2 * np.pi))\n",
    "\n",
    "hour_arr = np.array(df['hour'])\n",
    "\n",
    "\n",
    "df['hour_sin'] = sin_transformer(24).fit_transform(hour_arr.reshape(-1,1))\n",
    "df['hour_cos'] = cos_transformer(24).fit_transform(hour_arr.reshape(-1,1))\n"
   ]
  },
  {
   "attachments": {},
   "cell_type": "markdown",
   "metadata": {},
   "source": [
    "# Remove outlier"
   ]
  },
  {
   "cell_type": "code",
   "execution_count": 93,
   "metadata": {},
   "outputs": [],
   "source": [
    "# Assuming you have a DataFrame named 'df' and want to remove outliers from column 'column_name'\n",
    "\n",
    "# Calculate the z-scores for each value in the column\n",
    "z_scores = np.abs((df['idle_time'] - df['idle_time'].mean()) / df['idle_time'].std())\n",
    "\n",
    "# Define a threshold for outliers (e.g., z-score > 3)\n",
    "threshold = 1.5\n",
    "\n",
    "# Create a boolean mask indicating the outliers\n",
    "outliers_mask = z_scores > threshold\n",
    "\n",
    "# Remove outliers from the column by replacing them with NaN values\n",
    "df.loc[outliers_mask, 'idle_time'] = np.nan\n",
    "\n",
    "# Return the modified column back to the original DataFrame\n",
    "df = df.dropna(subset=['idle_time']) # Replace NaN values with median or any other desired method"
   ]
  },
  {
   "cell_type": "code",
   "execution_count": 94,
   "metadata": {},
   "outputs": [
    {
     "data": {
      "text/plain": [
       "790.9333333333333"
      ]
     },
     "execution_count": 94,
     "metadata": {},
     "output_type": "execute_result"
    }
   ],
   "source": [
    "df['idle_time'].max()"
   ]
  },
  {
   "cell_type": "code",
   "execution_count": 177,
   "metadata": {},
   "outputs": [
    {
     "data": {
      "text/plain": [
       "(0.0, 200.0)"
      ]
     },
     "execution_count": 177,
     "metadata": {},
     "output_type": "execute_result"
    },
    {
     "data": {
      "image/png": "[encoded data removed]",
      "text/plain": [
       "<Figure size 1440x576 with 1 Axes>"
      ]
     },
     "metadata": {
      "needs_background": "light"
     },
     "output_type": "display_data"
    }
   ],
   "source": [
    "fig,ax = plt.subplots(figsize=(20,8)) \n",
    "sns.boxplot(x=df.near_school, y= df.idle_time)\n",
    "plt.ylim(0,200)\n"
   ]
  },
  {
   "cell_type": "code",
   "execution_count": 163,
   "metadata": {},
   "outputs": [],
   "source": [
    "xp = df[['temperature','rain','hour_sin','hour_cos','near_bus_station','near_school','near_leisure_spots',\n",
    "        'IsWeekday']].values\n",
    "\n",
    "yp= df['idle_time'].values"
   ]
  },
  {
   "cell_type": "code",
   "execution_count": 164,
   "metadata": {},
   "outputs": [],
   "source": [
    "X_train_val, X_test, y_train_val, y_test = train_test_split(xp, yp, test_size=0.15, random_state=42)\n",
    "X_train, X_val, y_train, y_val = train_test_split(X_train_val, y_train_val, test_size=0.1765, random_state=42)"
   ]
  },
  {
   "attachments": {},
   "cell_type": "markdown",
   "metadata": {},
   "source": [
    "Scaling features"
   ]
  },
  {
   "cell_type": "code",
   "execution_count": 138,
   "metadata": {},
   "outputs": [],
   "source": [
    "from sklearn.preprocessing import PolynomialFeatures\n",
    "degree = 2\n",
    "poly = PolynomialFeatures(degree= degree,include_bias= False)\n",
    "poly_x = poly.fit_transform(X_train.reshape(-1,1))\n",
    "poly_test = poly.transform(X_test.reshape(-1,1))\n",
    "poly_val = poly.transform(X_val.reshape(-1,1))\n"
   ]
  },
  {
   "cell_type": "code",
   "execution_count": 140,
   "metadata": {},
   "outputs": [],
   "source": [
    "poly_x =poly_x.reshape(-1,14)\n",
    "poly_test = poly_test.reshape(-1,14)\n",
    "poly_val= poly_val.reshape(-1,14)"
   ]
  },
  {
   "cell_type": "code",
   "execution_count": 120,
   "metadata": {},
   "outputs": [],
   "source": [
    "\n",
    "\n",
    "from sklearn.preprocessing import MinMaxScaler\n",
    "\n",
    "\n",
    "scaler = MinMaxScaler()\n",
    "poly_x[:,:2] = scaler.fit_transform(poly_x[:, :2])\n",
    "poly_test[:,:2]= scaler.transform(poly_test[:,:2])\n",
    "poly_val[:,:2]= scaler.transform(poly_val[:,:2])\n",
    "\n"
   ]
  },
  {
   "cell_type": "code",
   "execution_count": 165,
   "metadata": {},
   "outputs": [],
   "source": [
    "X_train[:,:2] = scaler.fit_transform(X_train[:, :2])\n",
    "X_test[:,:2]= scaler.transform(X_test[:,:2])\n",
    "X_val[:,:2]= scaler.transform(X_val[:,:2])\n",
    "\n"
   ]
  },
  {
   "cell_type": "code",
   "execution_count": 59,
   "metadata": {},
   "outputs": [
    {
     "data": {
      "text/plain": [
       "(461866, 18)"
      ]
     },
     "execution_count": 59,
     "metadata": {},
     "output_type": "execute_result"
    }
   ],
   "source": [
    "poly_val.shape"
   ]
  },
  {
   "cell_type": "code",
   "execution_count": 45,
   "metadata": {},
   "outputs": [],
   "source": [
    "scaler_y = StandardScaler()"
   ]
  },
  {
   "cell_type": "code",
   "execution_count": 46,
   "metadata": {},
   "outputs": [],
   "source": [
    "\n",
    "\n",
    "y_train_scaled =scaler_y.fit_transform(y_train.reshape(-1,1))\n",
    "y_test_scaled =scaler_y.transform(y_test.reshape(-1,1))"
   ]
  },
  {
   "cell_type": "code",
   "execution_count": 18,
   "metadata": {},
   "outputs": [
    {
     "data": {
      "text/plain": [
       "2189789"
      ]
     },
     "execution_count": 18,
     "metadata": {},
     "output_type": "execute_result"
    }
   ],
   "source": [
    "len(y_train)"
   ]
  },
  {
   "cell_type": "code",
   "execution_count": 166,
   "metadata": {},
   "outputs": [],
   "source": [
    "\n",
    "# define base model\n",
    "\n",
    " # create model\n",
    "model = Sequential()\n",
    "model.add(Dense(20, input_shape=(8,), kernel_initializer='normal', activation='relu'))\n",
    "model.add(Dense(4, kernel_initializer='normal', activation='relu'))\n",
    "\n",
    "\n",
    "\n",
    "model.add(Dense(1, kernel_initializer='normal'))\n",
    " # Compile model\n",
    "model.compile(loss='mean_squared_error', optimizer='adam'\n",
    "             )\n"
   ]
  },
  {
   "cell_type": "code",
   "execution_count": 167,
   "metadata": {},
   "outputs": [
    {
     "name": "stdout",
     "output_type": "stream",
     "text": [
      "Epoch 1/50\n",
      "43075/43075 [==============================] - 115s 3ms/step - loss: 13822.7549\n",
      "Epoch 2/50\n",
      "43075/43075 [==============================] - 107s 2ms/step - loss: 13568.2109\n",
      "Epoch 3/50\n",
      "43075/43075 [==============================] - 123s 3ms/step - loss: 13545.0615\n",
      "Epoch 4/50\n",
      "30987/43075 [====================>.........] - ETA: 35s - loss: 13505.1797"
     ]
    },
    {
     "ename": "KeyboardInterrupt",
     "evalue": "",
     "output_type": "error",
     "traceback": [
      "\u001b[1;31m---------------------------------------------------------------------------\u001b[0m",
      "\u001b[1;31mKeyboardInterrupt\u001b[0m                         Traceback (most recent call last)",
      "\u001b[1;32m~\\AppData\\Local\\Temp/ipykernel_17688/1566301704.py\u001b[0m in \u001b[0;36m<module>\u001b[1;34m\u001b[0m\n\u001b[1;32m----> 1\u001b[1;33m \u001b[0mmodel\u001b[0m\u001b[1;33m.\u001b[0m\u001b[0mfit\u001b[0m\u001b[1;33m(\u001b[0m\u001b[0mX_train\u001b[0m\u001b[1;33m,\u001b[0m\u001b[0my_train\u001b[0m\u001b[1;33m,\u001b[0m \u001b[0mbatch_size\u001b[0m \u001b[1;33m=\u001b[0m\u001b[1;36m50\u001b[0m\u001b[1;33m,\u001b[0m \u001b[0mepochs\u001b[0m \u001b[1;33m=\u001b[0m \u001b[1;36m50\u001b[0m\u001b[1;33m)\u001b[0m\u001b[1;33m\u001b[0m\u001b[1;33m\u001b[0m\u001b[0m\n\u001b[0m",
      "\u001b[1;32mc:\\Users\\riven\\anaconda3\\lib\\site-packages\\keras\\utils\\traceback_utils.py\u001b[0m in \u001b[0;36merror_handler\u001b[1;34m(*args, **kwargs)\u001b[0m\n\u001b[0;32m     63\u001b[0m         \u001b[0mfiltered_tb\u001b[0m \u001b[1;33m=\u001b[0m \u001b[1;32mNone\u001b[0m\u001b[1;33m\u001b[0m\u001b[1;33m\u001b[0m\u001b[0m\n\u001b[0;32m     64\u001b[0m         \u001b[1;32mtry\u001b[0m\u001b[1;33m:\u001b[0m\u001b[1;33m\u001b[0m\u001b[1;33m\u001b[0m\u001b[0m\n\u001b[1;32m---> 65\u001b[1;33m             \u001b[1;32mreturn\u001b[0m \u001b[0mfn\u001b[0m\u001b[1;33m(\u001b[0m\u001b[1;33m*\u001b[0m\u001b[0margs\u001b[0m\u001b[1;33m,\u001b[0m \u001b[1;33m**\u001b[0m\u001b[0mkwargs\u001b[0m\u001b[1;33m)\u001b[0m\u001b[1;33m\u001b[0m\u001b[1;33m\u001b[0m\u001b[0m\n\u001b[0m\u001b[0;32m     66\u001b[0m         \u001b[1;32mexcept\u001b[0m \u001b[0mException\u001b[0m \u001b[1;32mas\u001b[0m \u001b[0me\u001b[0m\u001b[1;33m:\u001b[0m\u001b[1;33m\u001b[0m\u001b[1;33m\u001b[0m\u001b[0m\n\u001b[0;32m     67\u001b[0m             \u001b[0mfiltered_tb\u001b[0m \u001b[1;33m=\u001b[0m \u001b[0m_process_traceback_frames\u001b[0m\u001b[1;33m(\u001b[0m\u001b[0me\u001b[0m\u001b[1;33m.\u001b[0m\u001b[0m__traceback__\u001b[0m\u001b[1;33m)\u001b[0m\u001b[1;33m\u001b[0m\u001b[1;33m\u001b[0m\u001b[0m\n",
      "\u001b[1;32mc:\\Users\\riven\\anaconda3\\lib\\site-packages\\keras\\engine\\training.py\u001b[0m in \u001b[0;36mfit\u001b[1;34m(self, x, y, batch_size, epochs, verbose, callbacks, validation_split, validation_data, shuffle, class_weight, sample_weight, initial_epoch, steps_per_epoch, validation_steps, validation_batch_size, validation_freq, max_queue_size, workers, use_multiprocessing)\u001b[0m\n\u001b[0;32m   1688\u001b[0m                             \u001b[1;31m# No error, now safe to assign to logs.\u001b[0m\u001b[1;33m\u001b[0m\u001b[1;33m\u001b[0m\u001b[0m\n\u001b[0;32m   1689\u001b[0m                             \u001b[0mlogs\u001b[0m \u001b[1;33m=\u001b[0m \u001b[0mtmp_logs\u001b[0m\u001b[1;33m\u001b[0m\u001b[1;33m\u001b[0m\u001b[0m\n\u001b[1;32m-> 1690\u001b[1;33m                             \u001b[0mend_step\u001b[0m \u001b[1;33m=\u001b[0m \u001b[0mstep\u001b[0m \u001b[1;33m+\u001b[0m \u001b[0mdata_handler\u001b[0m\u001b[1;33m.\u001b[0m\u001b[0mstep_increment\u001b[0m\u001b[1;33m\u001b[0m\u001b[1;33m\u001b[0m\u001b[0m\n\u001b[0m\u001b[0;32m   1691\u001b[0m                             \u001b[0mcallbacks\u001b[0m\u001b[1;33m.\u001b[0m\u001b[0mon_train_batch_end\u001b[0m\u001b[1;33m(\u001b[0m\u001b[0mend_step\u001b[0m\u001b[1;33m,\u001b[0m \u001b[0mlogs\u001b[0m\u001b[1;33m)\u001b[0m\u001b[1;33m\u001b[0m\u001b[1;33m\u001b[0m\u001b[0m\n\u001b[0;32m   1692\u001b[0m                             \u001b[1;32mif\u001b[0m \u001b[0mself\u001b[0m\u001b[1;33m.\u001b[0m\u001b[0mstop_training\u001b[0m\u001b[1;33m:\u001b[0m\u001b[1;33m\u001b[0m\u001b[1;33m\u001b[0m\u001b[0m\n",
      "\u001b[1;32mc:\\Users\\riven\\anaconda3\\lib\\site-packages\\keras\\engine\\data_adapter.py\u001b[0m in \u001b[0;36mstep_increment\u001b[1;34m(self)\u001b[0m\n\u001b[0;32m   1393\u001b[0m                 \u001b[0mself\u001b[0m\u001b[1;33m.\u001b[0m\u001b[0m_steps_per_execution\u001b[0m\u001b[1;33m.\u001b[0m\u001b[0massign\u001b[0m\u001b[1;33m(\u001b[0m\u001b[0moriginal_spe\u001b[0m\u001b[1;33m)\u001b[0m\u001b[1;33m\u001b[0m\u001b[1;33m\u001b[0m\u001b[0m\n\u001b[0;32m   1394\u001b[0m \u001b[1;33m\u001b[0m\u001b[0m\n\u001b[1;32m-> 1395\u001b[1;33m     \u001b[1;33m@\u001b[0m\u001b[0mproperty\u001b[0m\u001b[1;33m\u001b[0m\u001b[1;33m\u001b[0m\u001b[0m\n\u001b[0m\u001b[0;32m   1396\u001b[0m     \u001b[1;32mdef\u001b[0m \u001b[0mstep_increment\u001b[0m\u001b[1;33m(\u001b[0m\u001b[0mself\u001b[0m\u001b[1;33m)\u001b[0m\u001b[1;33m:\u001b[0m\u001b[1;33m\u001b[0m\u001b[1;33m\u001b[0m\u001b[0m\n\u001b[0;32m   1397\u001b[0m         \u001b[1;34m\"\"\"The number to increment the step for `on_batch_end` methods.\"\"\"\u001b[0m\u001b[1;33m\u001b[0m\u001b[1;33m\u001b[0m\u001b[0m\n",
      "\u001b[1;31mKeyboardInterrupt\u001b[0m: "
     ]
    }
   ],
   "source": [
    "model.fit(X_train,y_train, batch_size =50, epochs = 50)"
   ]
  },
  {
   "cell_type": "code",
   "execution_count": null,
   "metadata": {},
   "outputs": [],
   "source": []
  },
  {
   "cell_type": "code",
   "execution_count": null,
   "metadata": {},
   "outputs": [],
   "source": [
    "estimators = []\n",
    "estimators.append(('standardize', StandardScaler()))\n",
    "estimators.append(('mlp', KerasRegressor(model=baseline_model, epochs=50, batch_size=5, verbose=0)))\n",
    "pipeline = Pipeline(estimators)\n",
    "kfold = KFold(n_splits=10)\n",
    "results = cross_val_score(pipeline, X, Y, cv=kfold, scoring='neg_mean_squared_error')\n",
    "print(\"Standardized: %.2f (%.2f) MSE\" % (results.mean(), results.std()))\n"
   ]
  },
  {
   "cell_type": "code",
   "execution_count": 142,
   "metadata": {},
   "outputs": [
    {
     "name": "stdout",
     "output_type": "stream",
     "text": [
      "[-5.39738093e+09  5.39738094e+09  6.23683262e+00  9.62139491e+09\n",
      "  1.21539770e+02  9.62139502e+09  4.05167003e+10 -4.05167003e+10\n",
      " -1.43205474e+11  1.43205475e+11  1.63449485e+10 -1.63449486e+10\n",
      "  5.36943521e+10 -5.36943521e+10] -9621394806.824642\n"
     ]
    },
    {
     "data": {
      "text/plain": [
       "-9621394806.824642"
      ]
     },
     "execution_count": 142,
     "metadata": {},
     "output_type": "execute_result"
    }
   ],
   "source": [
    "# let's fit the model\n",
    "\n",
    "\n",
    "\n",
    "# we use linear regression as a base!!! ** sometimes misunderstood **\n",
    "regression_model = LinearRegression()\n",
    "\n",
    "regression_model.fit(poly_x, y_train)\n",
    "print(regression_model.coef_ ,regression_model.intercept_)\n",
    "regression_model.coef_\n",
    "regression_model.intercept_\n",
    "\n",
    "\n",
    "\n",
    "\n",
    "\n"
   ]
  },
  {
   "attachments": {},
   "cell_type": "markdown",
   "metadata": {},
   "source": []
  },
  {
   "cell_type": "code",
   "execution_count": 30,
   "metadata": {},
   "outputs": [
    {
     "name": "stdout",
     "output_type": "stream",
     "text": [
      "Coefficients  [ -0.50857752   1.64219033   0.9452194   -0.81484799  -1.69369464\n",
      "   2.90151192   2.90151192   2.90151192   2.90151192   2.90151192\n",
      "   7.24488373 -28.76504506  -2.35087354 -39.87099422  -1.8737638\n",
      " 120.15378098  28.76504506 -24.29550885  17.65909591  34.5629423\n",
      "  -3.88556999  -3.88556999  -3.88556999  -3.88556999  -3.88556999\n",
      "   8.81271438   8.81271438   8.81271438   8.81271438   8.81271438\n",
      "  -5.60512452  -5.60512452  -5.60512452  -5.60512452  -5.60512452\n",
      " -26.79609254  -9.01115399 -19.38629759 -14.37092786   4.77844325\n",
      " -91.8132902    9.01115399  21.48065921   3.65138013 -22.2427346 ] \n",
      "Intercept  238.01958642374493\n"
     ]
    }
   ],
   "source": [
    "from sklearn.linear_model import Ridge\n",
    "\n",
    "# initialize model\n",
    "model_L2 = Ridge(alpha = 0.1, solver = 'lsqr') # select least squares regression as solver\n",
    "\n",
    "# train model\n",
    "model_L2.fit(poly_x, y_train)\n",
    "\n",
    "\n",
    "print(\"Coefficients \", model_L2.coef_, \"\\nIntercept \", model_L2.intercept_ )"
   ]
  },
  {
   "cell_type": "code",
   "execution_count": 145,
   "metadata": {},
   "outputs": [
    {
     "name": "stdout",
     "output_type": "stream",
     "text": [
      "Coefficients  [ 2.17956189e-02  1.77733399e-14  3.19995868e+00 -1.62025180e+01\n",
      "  1.12984553e+02  8.28338306e+01 -1.43953685e+01 -0.00000000e+00\n",
      "  2.92175461e+01  3.73220139e-13 -1.82066611e+01 -4.87562633e-14\n",
      " -8.09500602e+00 -3.96599977e-14] \n",
      "Intercept  106.7823770454194\n"
     ]
    }
   ],
   "source": [
    "from sklearn.linear_model import Lasso\n",
    "\n",
    "model_L1 = Lasso(alpha = 0.9)\n",
    "\n",
    "model_L1.fit(poly_x, y_train)\n",
    "\n",
    "print(\"Coefficients \", model_L1.coef_, \"\\nIntercept \", model_L1.intercept_ )"
   ]
  },
  {
   "cell_type": "code",
   "execution_count": 85,
   "metadata": {},
   "outputs": [
    {
     "data": {
      "text/plain": [
       "(4156794, 3)"
      ]
     },
     "execution_count": 85,
     "metadata": {},
     "output_type": "execute_result"
    }
   ],
   "source": [
    "poly_val.shape"
   ]
  },
  {
   "cell_type": "code",
   "execution_count": 17,
   "metadata": {},
   "outputs": [],
   "source": [
    "def plot_L2_regression_performance ():\n",
    "\n",
    "    err_train = []\n",
    "    err_cv = []\n",
    "    \n",
    "    \n",
    "\n",
    "    for alpha in np.logspace(-20,-10,20):\n",
    "\n",
    "        \n",
    "        \n",
    "        \n",
    "\n",
    "        # fit model\n",
    "        model_L2 = Ridge(alpha = alpha, solver = 'lsqr') # select least squares regression as solver\n",
    "        model_L2.fit(poly_x, y_train)\n",
    "    \n",
    "        # compute errors\n",
    "        err_train.append(mean_squared_error(model_L2.predict(poly_x), y_train))\n",
    "        err_cv.append(mean_squared_error(model_L2.predict(poly_val), y_val))\n",
    "\n",
    "\n",
    "    plt.figure(figsize = (8,6))\n",
    "    plt.loglog(np.logspace(-20,-10,20), err_train, np.logspace(-20,-10,20), err_cv)\n",
    "    plt.legend([\"Training\", \"Validation\"])\n",
    "    plt.xlabel(\"$\\lambda$ (or alpha in scikit learn terms)\")\n",
    "    plt.ylabel(\"Mean squared error\")\n",
    "    plt.show()"
   ]
  },
  {
   "cell_type": "code",
   "execution_count": 18,
   "metadata": {},
   "outputs": [
    {
     "data": {
      "image/png": "[encoded data removed]",
      "text/plain": [
       "<Figure size 576x432 with 1 Axes>"
      ]
     },
     "metadata": {
      "needs_background": "light"
     },
     "output_type": "display_data"
    }
   ],
   "source": [
    "plot_L2_regression_performance()"
   ]
  },
  {
   "cell_type": "code",
   "execution_count": 148,
   "metadata": {},
   "outputs": [
    {
     "name": "stdout",
     "output_type": "stream",
     "text": [
      "Test set performance:\n",
      "MAE: 65.51812565946308\n",
      "RMSE: 117.02547613176198\n",
      "R2: 0.19188535719163857\n"
     ]
    }
   ],
   "source": [
    "\n",
    "train_pred = model_L1.predict(poly_x)\n",
    "print(\"Test set performance:\")\n",
    "\n",
    "print(\"MAE:\",mean_absolute_error(y_train, train_pred))\n",
    "print(\"RMSE:\",(mean_squared_error(y_train, train_pred))**(0.5))  \n",
    "print(\"R2:\",r2_score(y_train, train_pred))"
   ]
  }
 ],
 "metadata": {
  "kernelspec": {
   "display_name": "base",
   "language": "python",
   "name": "python3"
  },
  "language_info": {
   "codemirror_mode": {
    "name": "ipython",
    "version": 3
   },
   "file_extension": ".py",
   "mimetype": "text/x-python",
   "name": "python",
   "nbconvert_exporter": "python",
   "pygments_lexer": "ipython3",
   "version": "3.9.7"
  },
  "orig_nbformat": 4
 },
 "nbformat": 4,
 "nbformat_minor": 2
}
